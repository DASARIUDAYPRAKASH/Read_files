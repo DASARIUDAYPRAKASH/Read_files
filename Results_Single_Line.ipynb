{
 "cells": [
  {
   "cell_type": "code",
   "execution_count": 0,
   "metadata": {
    "application/vnd.databricks.v1+cell": {
     "cellMetadata": {
      "byteLimit": 2048000,
      "rowLimit": 10000
     },
     "inputWidgets": {},
     "nuid": "4d12f3d0-c9fd-4193-a35b-83a9a8ac8a8d",
     "showTitle": false,
     "tableResultSettingsMap": {},
     "title": ""
    }
   },
   "outputs": [],
   "source": [
    "from pyspark.sql.types import StructType,StructField,StringType,IntegerType,DoubleType,DateType"
   ]
  },
  {
   "cell_type": "code",
   "execution_count": 0,
   "metadata": {
    "application/vnd.databricks.v1+cell": {
     "cellMetadata": {
      "byteLimit": 2048000,
      "rowLimit": 10000
     },
     "inputWidgets": {},
     "nuid": "b57165c6-e61d-4968-94c8-738413899895",
     "showTitle": false,
     "tableResultSettingsMap": {},
     "title": ""
    }
   },
   "outputs": [],
   "source": [
    "results_schema = StructType([\n",
    "    StructField('resultId', IntegerType(),True),\n",
    "    StructField('raceId', IntegerType(), True),\n",
    "    StructField('driverId', IntegerType(),True),\n",
    "    StructField('constructorId', IntegerType(), True),\n",
    "    StructField('number', IntegerType(), True),\n",
    "    StructField('grid', IntegerType(), True),\n",
    "    StructField('position', IntegerType(), True),\n",
    "    StructField('positionText', IntegerType(), True),\n",
    "    StructField('positionOrder', IntegerType(), True),\n",
    "    StructField('points', IntegerType(), True),\n",
    "    StructField('laps', IntegerType(),True),\n",
    "    StructField('time', StringType(), True),\n",
    "    StructField('milliseconds', IntegerType(), True),\n",
    "    StructField('fastestLap', IntegerType(), True),\n",
    "    StructField('rank', IntegerType(), True),\n",
    "    StructField('fastestLapTime', StringType(), True),\n",
    "    StructField('fastestLapSpeed', DoubleType(), True),\n",
    "    StructField('statusId', IntegerType(), True)\n",
    "])"
   ]
  },
  {
   "cell_type": "code",
   "execution_count": 0,
   "metadata": {
    "application/vnd.databricks.v1+cell": {
     "cellMetadata": {
      "byteLimit": 2048000,
      "rowLimit": 10000
     },
     "inputWidgets": {},
     "nuid": "214eb2de-ab0b-4322-97c1-94d85e7d04f6",
     "showTitle": false,
     "tableResultSettingsMap": {},
     "title": ""
    }
   },
   "outputs": [],
   "source": [
    "df = spark.read.json('abfss://udayadbcontainerv1@udayadbsav1.dfs.core.windows.net/RAW-V1/',schema=results_schema)"
   ]
  },
  {
   "cell_type": "code",
   "execution_count": 0,
   "metadata": {
    "application/vnd.databricks.v1+cell": {
     "cellMetadata": {
      "byteLimit": 2048000,
      "rowLimit": 10000
     },
     "inputWidgets": {},
     "nuid": "ccbd5926-74ab-45ea-9d19-d52f725c25ee",
     "showTitle": false,
     "tableResultSettingsMap": {},
     "title": ""
    }
   },
   "outputs": [],
   "source": [
    "df.display()"
   ]
  },
  {
   "cell_type": "code",
   "execution_count": 0,
   "metadata": {
    "application/vnd.databricks.v1+cell": {
     "cellMetadata": {
      "byteLimit": 2048000,
      "rowLimit": 10000
     },
     "inputWidgets": {},
     "nuid": "22696cb7-3a7e-4d4b-8afe-4fbf66b2ba2e",
     "showTitle": false,
     "tableResultSettingsMap": {},
     "title": ""
    }
   },
   "outputs": [],
   "source": [
    "# Drop status id\n",
    "from pyspark.sql.functions import col, current_timestamp\n",
    "df = df.withColumnRenamed('resultId','result_Id')\\\n",
    "       .withColumnRenamed('raceId', 'race_Id')\\\n",
    "       .withColumnRenamed('driverId', 'driver_Id')\\\n",
    "       .withColumnRenamed('constructorId','constructor_Id')\\\n",
    "       .withColumnRenamed(\"positionText\", \"position_Text\")\\\n",
    "       .withColumnRenamed(\"positionOrder\", \"position_Order\")\\\n",
    "       .withColumnRenamed(\"fastestLap\", \"fastest_Lap\")\\\n",
    "       .withColumnRenamed(\"fastestLapTime\", \"fastest_Lap_Time\")\\\n",
    "       .withColumnRenamed(\"fastestLapSpeed\", \"fastest_Lap_Speed\")\\\n",
    "       .drop(col(\"statusId\"))\\\n",
    "       .withColumn(\"Ingestion_Date\", current_timestamp())\n"
   ]
  },
  {
   "cell_type": "code",
   "execution_count": 0,
   "metadata": {
    "application/vnd.databricks.v1+cell": {
     "cellMetadata": {
      "byteLimit": 2048000,
      "rowLimit": 10000
     },
     "inputWidgets": {},
     "nuid": "2a69bf23-6517-4188-ba38-022e59a59f9d",
     "showTitle": false,
     "tableResultSettingsMap": {},
     "title": ""
    }
   },
   "outputs": [],
   "source": [
    "df.display()"
   ]
  },
  {
   "cell_type": "code",
   "execution_count": 0,
   "metadata": {
    "application/vnd.databricks.v1+cell": {
     "cellMetadata": {
      "byteLimit": 2048000,
      "rowLimit": 10000
     },
     "inputWidgets": {},
     "nuid": "3b996d21-39b4-4a14-b08d-42ba6f3a8178",
     "showTitle": false,
     "tableResultSettingsMap": {},
     "title": ""
    }
   },
   "outputs": [],
   "source": [
    "df.write.mode(\"overwrite\").partitionBy(\"race_id\").parquet(\"abfss://udayadbcontainerv1@udayadbsav1.dfs.core.windows.net/PROCESSED-V1/RESULTS\")"
   ]
  },
  {
   "cell_type": "code",
   "execution_count": 0,
   "metadata": {
    "application/vnd.databricks.v1+cell": {
     "cellMetadata": {},
     "inputWidgets": {},
     "nuid": "927f1ccf-d861-46d2-bd65-0fe384405837",
     "showTitle": false,
     "tableResultSettingsMap": {},
     "title": ""
    }
   },
   "outputs": [],
   "source": []
  }
 ],
 "metadata": {
  "application/vnd.databricks.v1+notebook": {
   "computePreferences": null,
   "dashboards": [],
   "environmentMetadata": {
    "base_environment": "",
    "environment_version": "2"
   },
   "inputWidgetPreferences": null,
   "language": "python",
   "notebookMetadata": {
    "pythonIndentUnit": 4
   },
   "notebookName": "Results_Single_Line",
   "widgets": {}
  },
  "language_info": {
   "name": "python"
  }
 },
 "nbformat": 4,
 "nbformat_minor": 0
}
