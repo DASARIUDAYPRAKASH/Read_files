{
 "cells": [
  {
   "cell_type": "code",
   "execution_count": 0,
   "metadata": {
    "application/vnd.databricks.v1+cell": {
     "cellMetadata": {
      "byteLimit": 2048000,
      "rowLimit": 10000
     },
     "inputWidgets": {},
     "nuid": "aa3195f1-8029-4123-be7c-2b262d022b52",
     "showTitle": false,
     "tableResultSettingsMap": {},
     "title": ""
    }
   },
   "outputs": [],
   "source": [
    "# raceid\n",
    "# driverid\n",
    "# lap\n",
    "# position\n",
    "# time\n",
    "# milliseconds\n",
    "\n",
    "from pyspark.sql.types import StructType,StructField,StringType,IntegerType,DoubleType\n",
    "\n",
    "lap_schema = StructType([\n",
    "    StructField('race_id', IntegerType(),True),\n",
    "    StructField('driver_id', IntegerType(),True),\n",
    "    StructField(\"lap\", IntegerType(),True),\n",
    "    StructField('position',IntegerType(),True),\n",
    "    StructField(\"time\", StringType(),True),\n",
    "    StructField('milliseconds', IntegerType(), True)\n",
    "])"
   ]
  },
  {
   "cell_type": "code",
   "execution_count": 0,
   "metadata": {
    "application/vnd.databricks.v1+cell": {
     "cellMetadata": {
      "byteLimit": 2048000,
      "rowLimit": 10000
     },
     "inputWidgets": {},
     "nuid": "8fbffb00-f6ea-44f5-897e-3da8d2ccdbbb",
     "showTitle": false,
     "tableResultSettingsMap": {},
     "title": ""
    }
   },
   "outputs": [],
   "source": [
    "df = spark.read.csv('abfss://udayadbcontainerv1@udayadbsav1.dfs.core.windows.net/RAW-V1/Lap_Times',schema=lap_schema)"
   ]
  },
  {
   "cell_type": "code",
   "execution_count": 0,
   "metadata": {
    "application/vnd.databricks.v1+cell": {
     "cellMetadata": {
      "byteLimit": 2048000,
      "rowLimit": 10000
     },
     "inputWidgets": {},
     "nuid": "f464690e-12a7-41e6-a245-390d6f5c775e",
     "showTitle": false,
     "tableResultSettingsMap": {},
     "title": ""
    }
   },
   "outputs": [],
   "source": [
    "df.display()"
   ]
  },
  {
   "cell_type": "code",
   "execution_count": 0,
   "metadata": {
    "application/vnd.databricks.v1+cell": {
     "cellMetadata": {
      "byteLimit": 2048000,
      "rowLimit": 10000
     },
     "inputWidgets": {},
     "nuid": "e6f0ac7f-80ca-4343-87f0-700d600926a1",
     "showTitle": false,
     "tableResultSettingsMap": {},
     "title": ""
    }
   },
   "outputs": [],
   "source": [
    "from pyspark.sql.functions import current_timestamp\n",
    "\n",
    "df = df.withColumn(\"Ingestion_Date\", current_timestamp())\n",
    "\n",
    "df.write.mode('overwrite').parquet('abfss://udayadbcontainerv1@udayadbsav1.dfs.core.windows.net/PROCESSED-V1/Laptimes/Lap_Times.parquet')"
   ]
  },
  {
   "cell_type": "code",
   "execution_count": 0,
   "metadata": {
    "application/vnd.databricks.v1+cell": {
     "cellMetadata": {},
     "inputWidgets": {},
     "nuid": "7c7ca66b-4318-4b6d-b963-f82384c115f0",
     "showTitle": false,
     "tableResultSettingsMap": {},
     "title": ""
    }
   },
   "outputs": [],
   "source": []
  }
 ],
 "metadata": {
  "application/vnd.databricks.v1+notebook": {
   "computePreferences": null,
   "dashboards": [],
   "environmentMetadata": {
    "base_environment": "",
    "environment_version": "2"
   },
   "inputWidgetPreferences": null,
   "language": "python",
   "notebookMetadata": {
    "pythonIndentUnit": 4
   },
   "notebookName": "Lap_Times",
   "widgets": {}
  },
  "language_info": {
   "name": "python"
  }
 },
 "nbformat": 4,
 "nbformat_minor": 0
}
