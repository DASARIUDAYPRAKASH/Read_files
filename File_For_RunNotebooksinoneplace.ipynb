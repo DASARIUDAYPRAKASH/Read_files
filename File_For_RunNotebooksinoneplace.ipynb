{
 "cells": [
  {
   "cell_type": "code",
   "execution_count": 0,
   "metadata": {
    "application/vnd.databricks.v1+cell": {
     "cellMetadata": {
      "byteLimit": 2048000,
      "rowLimit": 10000
     },
     "inputWidgets": {},
     "nuid": "53e8721d-07ca-4a98-9938-4165579aa2f6",
     "showTitle": false,
     "tableResultSettingsMap": {},
     "title": ""
    }
   },
   "outputs": [],
   "source": [
    "# Running NoteBooks [Constructer File]\n",
    "v_result = dbutils.notebook.run(\"/Workspace/Users/udaydasaridataengineer@gmail.com/Read_files/ConstruterFile\", 0, {\"p_data_source\": \"Ergast API\"})\n",
    "# COMMAND ----------\n",
    "v_result\n",
    "\n"
   ]
  },
  {
   "cell_type": "code",
   "execution_count": 0,
   "metadata": {
    "application/vnd.databricks.v1+cell": {
     "cellMetadata": {
      "byteLimit": 2048000,
      "rowLimit": 10000
     },
     "inputWidgets": {},
     "nuid": "cf72977f-3d48-4f0b-906e-46f1ad303c86",
     "showTitle": false,
     "tableResultSettingsMap": {},
     "title": ""
    }
   },
   "outputs": [],
   "source": [
    "# Databricks notebook source[Driver's File]\n",
    "v_result = dbutils.notebook.run(\"/Workspace/Users/udaydasaridataengineer@gmail.com/Read_files/Driver's File\", 0, {\"p_data_source\": \"Ergast API\"})\n",
    "# COMMAND ----------\n",
    "v_result"
   ]
  },
  {
   "cell_type": "code",
   "execution_count": 0,
   "metadata": {
    "application/vnd.databricks.v1+cell": {
     "cellMetadata": {
      "byteLimit": 2048000,
      "rowLimit": 10000
     },
     "inputWidgets": {},
     "nuid": "6a518fca-fa2d-41b2-9955-d17736462e9e",
     "showTitle": false,
     "tableResultSettingsMap": {},
     "title": ""
    }
   },
   "outputs": [],
   "source": [
    "# LapFile NoteBook\n",
    "v_result = dbutils.notebook.run(\"/Workspace/Users/udaydasaridataengineer@gmail.com/Read_files/Lap_Times\", 0, {\"p_data_source\": \"Ergast API\"})\n",
    "# COMMAND ----------\n",
    "v_result"
   ]
  },
  {
   "cell_type": "code",
   "execution_count": 0,
   "metadata": {
    "application/vnd.databricks.v1+cell": {
     "cellMetadata": {
      "byteLimit": 2048000,
      "rowLimit": 10000
     },
     "inputWidgets": {},
     "nuid": "b81a5776-169d-46f3-bc26-40af19139713",
     "showTitle": false,
     "tableResultSettingsMap": {},
     "title": ""
    }
   },
   "outputs": [],
   "source": [
    "# COMMAND ----------[PitStops Multiline NoteBook File]\n",
    "v_result = dbutils.notebook.run(\"/Workspace/Users/udaydasaridataengineer@gmail.com/Read_files/PitStops_Multiline_Data\", 0, {\"p_data_source\": \"Ergast API\"})\n",
    "# COMMAND ----------\n",
    "v_result"
   ]
  },
  {
   "cell_type": "code",
   "execution_count": 0,
   "metadata": {
    "application/vnd.databricks.v1+cell": {
     "cellMetadata": {
      "byteLimit": 2048000,
      "rowLimit": 10000
     },
     "inputWidgets": {},
     "nuid": "face3513-f6f7-4c68-95f4-efaec442edbe",
     "showTitle": false,
     "tableResultSettingsMap": {},
     "title": ""
    }
   },
   "outputs": [],
   "source": [
    "# COMMAND ----------[Qualifying File NoteBook]\n",
    "v_result = dbutils.notebook.run(\"/Workspace/Users/udaydasaridataengineer@gmail.com/Read_files/Qualifying\", 0, {\"p_data_source\": \"Ergast API\"})\n",
    "# COMMAND ----------\n",
    "v_result"
   ]
  },
  {
   "cell_type": "code",
   "execution_count": 0,
   "metadata": {
    "application/vnd.databricks.v1+cell": {
     "cellMetadata": {
      "byteLimit": 2048000,
      "rowLimit": 10000
     },
     "inputWidgets": {},
     "nuid": "363e2c3e-a334-4738-b4f6-6e0dae86f71d",
     "showTitle": false,
     "tableResultSettingsMap": {},
     "title": ""
    }
   },
   "outputs": [],
   "source": [
    "v_result = dbutils.notebook.run(\"/Workspace/Users/udaydasaridataengineer@gmail.com/Read_files/Results_Single_Line\", 0, {\"p_data_source\": \"Ergast API\"})\n",
    "v_result"
   ]
  },
  {
   "cell_type": "code",
   "execution_count": 0,
   "metadata": {
    "application/vnd.databricks.v1+cell": {
     "cellMetadata": {},
     "inputWidgets": {},
     "nuid": "8fcf4e4f-42da-4703-bc33-091da8b06271",
     "showTitle": false,
     "tableResultSettingsMap": {},
     "title": ""
    }
   },
   "outputs": [],
   "source": []
  }
 ],
 "metadata": {
  "application/vnd.databricks.v1+notebook": {
   "computePreferences": null,
   "dashboards": [],
   "environmentMetadata": {
    "base_environment": "",
    "environment_version": "2"
   },
   "inputWidgetPreferences": null,
   "language": "python",
   "notebookMetadata": {
    "pythonIndentUnit": 4
   },
   "notebookName": "File_For_RunNotebooksinoneplace",
   "widgets": {}
  },
  "language_info": {
   "name": "python"
  }
 },
 "nbformat": 4,
 "nbformat_minor": 0
}
